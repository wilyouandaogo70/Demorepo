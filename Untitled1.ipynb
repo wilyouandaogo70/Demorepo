{
  "nbformat": 4,
  "nbformat_minor": 0,
  "metadata": {
    "colab": {
      "name": "Untitled1.ipynb",
      "provenance": [],
      "authorship_tag": "ABX9TyM8uuw6FwhU3sIDX0C5U8oT",
      "include_colab_link": true
    },
    "kernelspec": {
      "name": "python3",
      "display_name": "Python 3"
    },
    "language_info": {
      "name": "python"
    }
  },
  "cells": [
    {
      "cell_type": "markdown",
      "metadata": {
        "id": "view-in-github",
        "colab_type": "text"
      },
      "source": [
        "<a href=\"https://colab.research.google.com/github/wilyouandaogo70/Demorepo/blob/main/Untitled1.ipynb\" target=\"_parent\"><img src=\"https://colab.research.google.com/assets/colab-badge.svg\" alt=\"Open In Colab\"/></a>"
      ]
    },
    {
      "cell_type": "markdown",
      "source": [
        "## MAKING A LIST"
      ],
      "metadata": {
        "id": "ZmIev7oeZynO"
      }
    },
    {
      "cell_type": "code",
      "execution_count": 32,
      "metadata": {
        "id": "dBWk_urQZmbN"
      },
      "outputs": [],
      "source": [
        "movies = ['spiderman', 'Clueless', 'The Goonies', 'Die Hard']"
      ]
    },
    {
      "cell_type": "code",
      "source": [
        "print(movies)"
      ],
      "metadata": {
        "colab": {
          "base_uri": "https://localhost:8080/"
        },
        "id": "xd6UmslYa2EU",
        "outputId": "4177777c-18d1-4248-9f21-faec9dacb28a"
      },
      "execution_count": 2,
      "outputs": [
        {
          "output_type": "stream",
          "name": "stdout",
          "text": [
            "['spiderman', 'Clueless', 'The Goonies', 'Die Hard']\n"
          ]
        }
      ]
    },
    {
      "cell_type": "code",
      "source": [
        "print(movies[1])\n",
        "print(movies[3])"
      ],
      "metadata": {
        "colab": {
          "base_uri": "https://localhost:8080/"
        },
        "id": "q3GHN_gGa7ps",
        "outputId": "3c43a0a1-d5cc-426e-a9d0-4734dc5a8317"
      },
      "execution_count": 5,
      "outputs": [
        {
          "output_type": "stream",
          "name": "stdout",
          "text": [
            "Clueless\n",
            "Die Hard\n"
          ]
        }
      ]
    },
    {
      "cell_type": "code",
      "source": [
        "print(movies[-1])\n",
        "print(movies[-2])"
      ],
      "metadata": {
        "colab": {
          "base_uri": "https://localhost:8080/"
        },
        "id": "8AbvPf8_ch16",
        "outputId": "3f0dbf77-771e-40ba-ecd8-533db3023ef7"
      },
      "execution_count": 7,
      "outputs": [
        {
          "output_type": "stream",
          "name": "stdout",
          "text": [
            "Die Hard\n",
            "The Goonies\n"
          ]
        }
      ]
    },
    {
      "cell_type": "code",
      "source": [
        "print(movies[0].upper())\n",
        "print(movies[0].lower())\n",
        "print(movies[0].title())"
      ],
      "metadata": {
        "colab": {
          "base_uri": "https://localhost:8080/"
        },
        "id": "vRWfAPjXbPRa",
        "outputId": "2d408744-6c95-47f3-96c3-35c6f50b56f8"
      },
      "execution_count": 11,
      "outputs": [
        {
          "output_type": "stream",
          "name": "stdout",
          "text": [
            "SPIDERMAN\n",
            "spiderman\n",
            "Spiderman\n"
          ]
        }
      ]
    },
    {
      "cell_type": "code",
      "source": [
        "message = \"My favorite movie is \" + movies[3]"
      ],
      "metadata": {
        "id": "2tVDHwn_d8mm"
      },
      "execution_count": 12,
      "outputs": []
    },
    {
      "cell_type": "code",
      "source": [
        "Names1 = ['Jean', 'Claude', 'Zara', 'Paulin']"
      ],
      "metadata": {
        "id": "9aPjbKJ4gGbZ"
      },
      "execution_count": 13,
      "outputs": []
    },
    {
      "cell_type": "code",
      "source": [
        "print(Names1[0])\n",
        "print(Names1[1])\n",
        "print(Names1[2])\n",
        "print(Names1[3])\n",
        "print(Names1[-1])\n",
        "      "
      ],
      "metadata": {
        "colab": {
          "base_uri": "https://localhost:8080/"
        },
        "id": "Gk4m8iRmgadm",
        "outputId": "6947de6a-bfe3-4089-a4ce-7623999e11fb"
      },
      "execution_count": 16,
      "outputs": [
        {
          "output_type": "stream",
          "name": "stdout",
          "text": [
            "Jean\n",
            "Claude\n",
            "Zara\n",
            "Paulin\n",
            "Paulin\n"
          ]
        }
      ]
    },
    {
      "cell_type": "code",
      "source": [
        "messages_1 = \"Good morning \" + Names1 [0]+ \" How are you doing today?\"\n",
        "messages_2 = \"Good morning \" + Names1 [1]+ \" How are you doing today?\"\n",
        "messages_3 = \"Good morning \" + Names1 [2]+ \" How are you doing today?\"\n",
        "messages_4 = \"Good morning \" + Names1 [3]+ \" How are you doing today?\""
      ],
      "metadata": {
        "id": "7um3Uz7Kg1_G"
      },
      "execution_count": 24,
      "outputs": []
    },
    {
      "cell_type": "code",
      "source": [
        "print(messages_1) \n",
        "print(messages_2)\n",
        "print(messages_3)\n",
        "print(messages_4)"
      ],
      "metadata": {
        "colab": {
          "base_uri": "https://localhost:8080/"
        },
        "id": "6JqKL4DZhR_l",
        "outputId": "d072e3da-29b4-4a54-bd1e-15e24150acd0"
      },
      "execution_count": 27,
      "outputs": [
        {
          "output_type": "stream",
          "name": "stdout",
          "text": [
            "Good morning Jean How are you doing today?\n",
            "Good morning Claude How are you doing today?\n",
            "Good morning Zara How are you doing today?\n",
            "Good morning Paulin How are you doing today?\n"
          ]
        }
      ]
    },
    {
      "cell_type": "code",
      "source": [
        "friends =['katie', 'laura', 'sarah', 'Charles']"
      ],
      "metadata": {
        "id": "8hC4vioQkMSm"
      },
      "execution_count": 28,
      "outputs": []
    },
    {
      "cell_type": "code",
      "source": [
        ""
      ],
      "metadata": {
        "id": "nCN4mTCJvQZ8"
      },
      "execution_count": null,
      "outputs": []
    },
    {
      "cell_type": "code",
      "source": [
        "print(\"Hi, \" + friends [0] + \", how are you?\")"
      ],
      "metadata": {
        "colab": {
          "base_uri": "https://localhost:8080/"
        },
        "outputId": "2d4874e9-d8ff-4435-c0ad-b35c03645477",
        "id": "ZgyYfXdMvQ2A"
      },
      "execution_count": 36,
      "outputs": [
        {
          "output_type": "stream",
          "name": "stdout",
          "text": [
            "Hi, katie, how are you?\n"
          ]
        }
      ]
    },
    {
      "cell_type": "markdown",
      "source": [
        "## MODIFYING LISTS"
      ],
      "metadata": {
        "id": "7ESodTLPtuPQ"
      }
    },
    {
      "cell_type": "code",
      "source": [
        "print(movies)\n",
        "movies.append('Legally Blond')\n",
        "print(movies)"
      ],
      "metadata": {
        "colab": {
          "base_uri": "https://localhost:8080/"
        },
        "id": "HPR4iP_Ht6bf",
        "outputId": "20e7e5f5-4cf3-4862-c376-2e1b71c347d5"
      },
      "execution_count": 33,
      "outputs": [
        {
          "output_type": "stream",
          "name": "stdout",
          "text": [
            "['spiderman', 'Clueless', 'The Goonies', 'Die Hard']\n",
            "['spiderman', 'Clueless', 'The Goonies', 'Die Hard', 'Legally Blond']\n"
          ]
        }
      ]
    },
    {
      "cell_type": "code",
      "source": [
        "movies.insert(1, 'Aladdin')"
      ],
      "metadata": {
        "id": "NgwjU2cDubnN"
      },
      "execution_count": 34,
      "outputs": []
    },
    {
      "cell_type": "code",
      "source": [
        "print(movies)"
      ],
      "metadata": {
        "colab": {
          "base_uri": "https://localhost:8080/"
        },
        "id": "OqRcGgriuv0P",
        "outputId": "42fe0e71-9954-451f-be5a-26ce0b17e66f"
      },
      "execution_count": 35,
      "outputs": [
        {
          "output_type": "stream",
          "name": "stdout",
          "text": [
            "['spiderman', 'Aladdin', 'Clueless', 'The Goonies', 'Die Hard', 'Legally Blond']\n"
          ]
        }
      ]
    },
    {
      "cell_type": "code",
      "source": [
        "print(movies)\n",
        "del movies[-2]\n",
        "print(movies)"
      ],
      "metadata": {
        "colab": {
          "base_uri": "https://localhost:8080/"
        },
        "id": "0Y6zfGiBvBJ5",
        "outputId": "5fe9cfa3-733e-46fc-c68a-9eb3759e19f5"
      },
      "execution_count": 40,
      "outputs": [
        {
          "output_type": "stream",
          "name": "stdout",
          "text": [
            "['spiderman', 'Aladdin', 'Clueless', 'Legally Blond']\n",
            "['spiderman', 'Aladdin', 'Legally Blond']\n"
          ]
        }
      ]
    },
    {
      "cell_type": "code",
      "source": [
        "print(movies)\n",
        "movies.remove('spiderman')\n",
        "print(movies)"
      ],
      "metadata": {
        "colab": {
          "base_uri": "https://localhost:8080/",
          "height": 217
        },
        "id": "vNB6Zt4tv6Xq",
        "outputId": "0192a99b-e809-4523-a0ca-1cf972bb1767"
      },
      "execution_count": 44,
      "outputs": [
        {
          "output_type": "stream",
          "name": "stdout",
          "text": [
            "['Aladdin', 'Legally Blond']\n"
          ]
        },
        {
          "output_type": "error",
          "ename": "ValueError",
          "evalue": "ignored",
          "traceback": [
            "\u001b[0;31m---------------------------------------------------------------------------\u001b[0m",
            "\u001b[0;31mValueError\u001b[0m                                Traceback (most recent call last)",
            "\u001b[0;32m<ipython-input-44-6a7bb5970f79>\u001b[0m in \u001b[0;36m<module>\u001b[0;34m()\u001b[0m\n\u001b[1;32m      1\u001b[0m \u001b[0mprint\u001b[0m\u001b[0;34m(\u001b[0m\u001b[0mmovies\u001b[0m\u001b[0;34m)\u001b[0m\u001b[0;34m\u001b[0m\u001b[0;34m\u001b[0m\u001b[0m\n\u001b[0;32m----> 2\u001b[0;31m \u001b[0mmovies\u001b[0m\u001b[0;34m.\u001b[0m\u001b[0mremove\u001b[0m\u001b[0;34m(\u001b[0m\u001b[0;34m'spiderman'\u001b[0m\u001b[0;34m)\u001b[0m\u001b[0;34m\u001b[0m\u001b[0;34m\u001b[0m\u001b[0m\n\u001b[0m\u001b[1;32m      3\u001b[0m \u001b[0mprint\u001b[0m\u001b[0;34m(\u001b[0m\u001b[0mmovies\u001b[0m\u001b[0;34m)\u001b[0m\u001b[0;34m\u001b[0m\u001b[0;34m\u001b[0m\u001b[0m\n",
            "\u001b[0;31mValueError\u001b[0m: list.remove(x): x not in list"
          ]
        }
      ]
    },
    {
      "cell_type": "markdown",
      "source": [
        "## CLASS WORK!"
      ],
      "metadata": {
        "id": "6PSx7eIExZuS"
      }
    },
    {
      "cell_type": "code",
      "source": [
        "foods = ['Fufu', 'Tot', 'Rice']"
      ],
      "metadata": {
        "id": "jnwQ2O1uxgcq"
      },
      "execution_count": 45,
      "outputs": []
    },
    {
      "cell_type": "code",
      "source": [
        "print(foods)"
      ],
      "metadata": {
        "colab": {
          "base_uri": "https://localhost:8080/"
        },
        "id": "iEStxYVyx5ZY",
        "outputId": "05ea853f-cde6-4446-d4d6-8dcf12c2bd0c"
      },
      "execution_count": 46,
      "outputs": [
        {
          "output_type": "stream",
          "name": "stdout",
          "text": [
            "['Fufu', 'Tot', 'Rice']\n"
          ]
        }
      ]
    },
    {
      "cell_type": "code",
      "source": [
        "foods.append('Banku')"
      ],
      "metadata": {
        "id": "GPQf_1fJx9o2"
      },
      "execution_count": 47,
      "outputs": []
    },
    {
      "cell_type": "code",
      "source": [
        "print(foods)"
      ],
      "metadata": {
        "colab": {
          "base_uri": "https://localhost:8080/"
        },
        "id": "jUwNIWuEyK-y",
        "outputId": "6c4ca36d-1adb-499f-f3d0-f2d1510d5923"
      },
      "execution_count": 48,
      "outputs": [
        {
          "output_type": "stream",
          "name": "stdout",
          "text": [
            "['Fufu', 'Tot', 'Rice', 'Banku']\n"
          ]
        }
      ]
    },
    {
      "cell_type": "code",
      "source": [
        "print(foods)\n",
        "foods.remove('Tot')\n",
        "print(foods)"
      ],
      "metadata": {
        "colab": {
          "base_uri": "https://localhost:8080/"
        },
        "id": "K41U7I_-yPCb",
        "outputId": "c9effb59-f9ac-4c5e-ce1a-748e1c467cdc"
      },
      "execution_count": 50,
      "outputs": [
        {
          "output_type": "stream",
          "name": "stdout",
          "text": [
            "['Fufu', 'Tot', 'Rice', 'Banku']\n",
            "['Fufu', 'Rice', 'Banku']\n"
          ]
        }
      ]
    },
    {
      "cell_type": "code",
      "source": [
        "print(foods)\n",
        "foods.insert(0, 'Beans')\n",
        "print(foods)"
      ],
      "metadata": {
        "colab": {
          "base_uri": "https://localhost:8080/"
        },
        "id": "1QLQQeQ0yqgB",
        "outputId": "918172e8-e288-43ee-929d-bacd5cb00e3c"
      },
      "execution_count": 51,
      "outputs": [
        {
          "output_type": "stream",
          "name": "stdout",
          "text": [
            "['Fufu', 'Rice', 'Banku']\n",
            "['Beans', 'Fufu', 'Rice', 'Banku']\n"
          ]
        }
      ]
    },
    {
      "cell_type": "code",
      "source": [
        "ffoods = ['Pizza', 'Sushi', 'Fied', 'Chicken']"
      ],
      "metadata": {
        "id": "AE7WPBDP3diM"
      },
      "execution_count": 52,
      "outputs": []
    },
    {
      "cell_type": "code",
      "source": [
        "print(\"My favorite foods are \" + ffoods[0]  + \", \"  +  ffoods[1])"
      ],
      "metadata": {
        "colab": {
          "base_uri": "https://localhost:8080/"
        },
        "id": "s34aSfKk36yn",
        "outputId": "254d20ff-adb1-474f-849a-7c1833c6bc29"
      },
      "execution_count": 60,
      "outputs": [
        {
          "output_type": "stream",
          "name": "stdout",
          "text": [
            "My favorite foods are Pizza, Sushi\n"
          ]
        }
      ]
    },
    {
      "cell_type": "code",
      "source": [
        "ffoods.append('Tacos')\n",
        "print(ffoods)"
      ],
      "metadata": {
        "colab": {
          "base_uri": "https://localhost:8080/"
        },
        "id": "Jm2RKSmo4n7-",
        "outputId": "69ce8e0b-9c77-43b4-d522-b49fb7fdd894"
      },
      "execution_count": 62,
      "outputs": [
        {
          "output_type": "stream",
          "name": "stdout",
          "text": [
            "['Pizza', 'Sushi', 'Fied', 'Chicken', 'Tacos', 'Tacos']\n"
          ]
        }
      ]
    },
    {
      "cell_type": "code",
      "source": [
        "ffoods.remove('Sushi')\n",
        "print(ffoods)"
      ],
      "metadata": {
        "colab": {
          "base_uri": "https://localhost:8080/"
        },
        "id": "UBhWLpgu5Enh",
        "outputId": "ebcf2ee9-c243-4233-88ef-976cacc0c50a"
      },
      "execution_count": 63,
      "outputs": [
        {
          "output_type": "stream",
          "name": "stdout",
          "text": [
            "['Pizza', 'Fied', 'Chicken', 'Tacos', 'Tacos']\n"
          ]
        }
      ]
    },
    {
      "cell_type": "markdown",
      "source": [
        "## SORTING"
      ],
      "metadata": {
        "id": "fXiCfJyA6LM4"
      }
    },
    {
      "cell_type": "code",
      "source": [
        "print(ffoods)\n",
        "len(ffoods)"
      ],
      "metadata": {
        "colab": {
          "base_uri": "https://localhost:8080/"
        },
        "id": "yOhl9jP46cPg",
        "outputId": "dbed4e87-9fdf-4e33-92f3-00ab8ef7074c"
      },
      "execution_count": 64,
      "outputs": [
        {
          "output_type": "stream",
          "name": "stdout",
          "text": [
            "['Pizza', 'Fied', 'Chicken', 'Tacos', 'Tacos']\n"
          ]
        },
        {
          "output_type": "execute_result",
          "data": {
            "text/plain": [
              "5"
            ]
          },
          "metadata": {},
          "execution_count": 64
        }
      ]
    },
    {
      "cell_type": "code",
      "source": [
        "print(ffoods)\n",
        "ffoods.sort()\n",
        "print(ffoods)"
      ],
      "metadata": {
        "colab": {
          "base_uri": "https://localhost:8080/"
        },
        "id": "fS7M5noo65us",
        "outputId": "afb8e671-c95e-4670-93b9-929501a68a85"
      },
      "execution_count": 65,
      "outputs": [
        {
          "output_type": "stream",
          "name": "stdout",
          "text": [
            "['Pizza', 'Fied', 'Chicken', 'Tacos', 'Tacos']\n",
            "['Chicken', 'Fied', 'Pizza', 'Tacos', 'Tacos']\n"
          ]
        }
      ]
    },
    {
      "cell_type": "code",
      "source": [
        "ffoods.sort(reverse= True)\n",
        "print(ffoods)"
      ],
      "metadata": {
        "colab": {
          "base_uri": "https://localhost:8080/"
        },
        "id": "LCoz43BS7ODA",
        "outputId": "90281a9e-1b23-492e-8798-97e9e170aee3"
      },
      "execution_count": 69,
      "outputs": [
        {
          "output_type": "stream",
          "name": "stdout",
          "text": [
            "['Tacos', 'Tacos', 'Pizza', 'Fied', 'Chicken']\n"
          ]
        }
      ]
    },
    {
      "cell_type": "code",
      "source": [
        "print(ffoods)\n"
      ],
      "metadata": {
        "colab": {
          "base_uri": "https://localhost:8080/"
        },
        "id": "JB4-Camn76Ze",
        "outputId": "4b1b223f-9319-42d9-a60a-3c4d8d8d17de"
      },
      "execution_count": 70,
      "outputs": [
        {
          "output_type": "stream",
          "name": "stdout",
          "text": [
            "['Tacos', 'Tacos', 'Pizza', 'Fied', 'Chicken']\n"
          ]
        }
      ]
    },
    {
      "cell_type": "markdown",
      "source": [
        "## CLASS WORK"
      ],
      "metadata": {
        "id": "eRfA2hjs8NxK"
      }
    },
    {
      "cell_type": "code",
      "source": [
        "countries = ['Burkina Faso', 'France', 'Zambia', 'Ghana', 'Canada']\n",
        "print(countries)"
      ],
      "metadata": {
        "colab": {
          "base_uri": "https://localhost:8080/"
        },
        "id": "zPv0XodL8TUn",
        "outputId": "f3fe4876-1b9d-407e-8239-5b8d95ceb21c"
      },
      "execution_count": 74,
      "outputs": [
        {
          "output_type": "stream",
          "name": "stdout",
          "text": [
            "['Burkina Faso', 'France', 'Zambia', 'Ghana', 'Canada']\n"
          ]
        }
      ]
    },
    {
      "cell_type": "code",
      "source": [
        "countries.sort()\n",
        "print(countries)"
      ],
      "metadata": {
        "colab": {
          "base_uri": "https://localhost:8080/"
        },
        "id": "f6ouc3Yf9EIX",
        "outputId": "72c590c4-c1db-4868-f7b3-a6c23dc3fcf0"
      },
      "execution_count": 75,
      "outputs": [
        {
          "output_type": "stream",
          "name": "stdout",
          "text": [
            "['Burkina Faso', 'Canada', 'France', 'Ghana', 'Zambia']\n"
          ]
        }
      ]
    },
    {
      "cell_type": "code",
      "source": [
        "countries.sort(reverse = True)\n",
        "print(countries)"
      ],
      "metadata": {
        "colab": {
          "base_uri": "https://localhost:8080/"
        },
        "id": "uLHwuWt99m62",
        "outputId": "de533a5a-7097-43ac-bdad-5afb3b8c3dd1"
      },
      "execution_count": 76,
      "outputs": [
        {
          "output_type": "stream",
          "name": "stdout",
          "text": [
            "['Zambia', 'Ghana', 'France', 'Canada', 'Burkina Faso']\n"
          ]
        }
      ]
    },
    {
      "cell_type": "code",
      "source": [
        "print(countries)\n",
        "len(countries)"
      ],
      "metadata": {
        "colab": {
          "base_uri": "https://localhost:8080/"
        },
        "id": "grWb6236-BOh",
        "outputId": "25b68c8a-5b04-4fde-d252-39cd5147196c"
      },
      "execution_count": 77,
      "outputs": [
        {
          "output_type": "stream",
          "name": "stdout",
          "text": [
            "['Zambia', 'Ghana', 'France', 'Canada', 'Burkina Faso']\n"
          ]
        },
        {
          "output_type": "execute_result",
          "data": {
            "text/plain": [
              "5"
            ]
          },
          "metadata": {},
          "execution_count": 77
        }
      ]
    }
  ]
}