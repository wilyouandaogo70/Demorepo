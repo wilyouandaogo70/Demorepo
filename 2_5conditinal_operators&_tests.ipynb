{
  "nbformat": 4,
  "nbformat_minor": 0,
  "metadata": {
    "colab": {
      "name": "2-5conditinal operators& tests.ipynb",
      "provenance": [],
      "authorship_tag": "ABX9TyOCSzEdyE1Y6bfXdnxINwdB",
      "include_colab_link": true
    },
    "kernelspec": {
      "name": "python3",
      "display_name": "Python 3"
    },
    "language_info": {
      "name": "python"
    }
  },
  "cells": [
    {
      "cell_type": "markdown",
      "metadata": {
        "id": "view-in-github",
        "colab_type": "text"
      },
      "source": [
        "<a href=\"https://colab.research.google.com/github/wilyouandaogo70/Demorepo/blob/main/2_5conditinal_operators%26_tests.ipynb\" target=\"_parent\"><img src=\"https://colab.research.google.com/assets/colab-badge.svg\" alt=\"Open In Colab\"/></a>"
      ]
    },
    {
      "cell_type": "markdown",
      "source": [
        "## CONDITIONAL TESTS"
      ],
      "metadata": {
        "id": "XbAvrmAK8ouC"
      }
    },
    {
      "cell_type": "code",
      "execution_count": 1,
      "metadata": {
        "id": "pz9vs7_z8hVB"
      },
      "outputs": [],
      "source": [
        "fruits = ['strawberry', 'kiwi', 'watermelon', 'mango']"
      ]
    },
    {
      "cell_type": "code",
      "source": [
        "for fruit in fruits:\n",
        "  if fruit == 'kiwi':\n",
        "    print(fruit.upper())\n",
        "  else:\n",
        "    print(fruit.lower())"
      ],
      "metadata": {
        "colab": {
          "base_uri": "https://localhost:8080/"
        },
        "id": "EGr-VZbg9qGZ",
        "outputId": "b6c89ed0-e2ad-4f71-a25e-8b1a68e6fb77"
      },
      "execution_count": 2,
      "outputs": [
        {
          "output_type": "stream",
          "name": "stdout",
          "text": [
            "strawberry\n",
            "KIWI\n",
            "watermelon\n",
            "mango\n"
          ]
        }
      ]
    },
    {
      "cell_type": "code",
      "source": [
        "for f in fruits:\n",
        "  print(f.upper () + \" \" + f.title())"
      ],
      "metadata": {
        "colab": {
          "base_uri": "https://localhost:8080/"
        },
        "id": "f1qIKINb-BmB",
        "outputId": "3a687185-83d2-40f7-b59d-d050be0b74b9"
      },
      "execution_count": 4,
      "outputs": [
        {
          "output_type": "stream",
          "name": "stdout",
          "text": [
            "STRAWBERRY Strawberry\n",
            "KIWI Kiwi\n",
            "WATERMELON Watermelon\n",
            "MANGO Mango\n"
          ]
        }
      ]
    },
    {
      "cell_type": "markdown",
      "source": [
        ""
      ],
      "metadata": {
        "id": "O9_TByCS-1yc"
      }
    },
    {
      "cell_type": "code",
      "source": [
        "movie = 'star trek'"
      ],
      "metadata": {
        "id": "L5DDFOIs-1kZ"
      },
      "execution_count": 5,
      "outputs": []
    },
    {
      "cell_type": "code",
      "source": [
        "movie == 'star trek'"
      ],
      "metadata": {
        "colab": {
          "base_uri": "https://localhost:8080/"
        },
        "id": "A6S1InS-_PKE",
        "outputId": "2e764163-2eca-4603-b216-601ee6177db3"
      },
      "execution_count": 6,
      "outputs": [
        {
          "output_type": "execute_result",
          "data": {
            "text/plain": [
              "True"
            ]
          },
          "metadata": {},
          "execution_count": 6
        }
      ]
    },
    {
      "cell_type": "code",
      "source": [
        "movie == 'star Trek'"
      ],
      "metadata": {
        "colab": {
          "base_uri": "https://localhost:8080/"
        },
        "id": "xpzNncX1_YQ-",
        "outputId": "e6d5e08f-00b2-4bb9-dce1-589b812f6bbd"
      },
      "execution_count": 7,
      "outputs": [
        {
          "output_type": "execute_result",
          "data": {
            "text/plain": [
              "False"
            ]
          },
          "metadata": {},
          "execution_count": 7
        }
      ]
    },
    {
      "cell_type": "code",
      "source": [
        "movie != 'clueless'"
      ],
      "metadata": {
        "colab": {
          "base_uri": "https://localhost:8080/"
        },
        "id": "Copx9r43_iu1",
        "outputId": "ad53405c-f87c-4b90-8a5a-1b2cde85ae04"
      },
      "execution_count": 8,
      "outputs": [
        {
          "output_type": "execute_result",
          "data": {
            "text/plain": [
              "True"
            ]
          },
          "metadata": {},
          "execution_count": 8
        }
      ]
    },
    {
      "cell_type": "code",
      "source": [
        "movie != 'star trek'"
      ],
      "metadata": {
        "colab": {
          "base_uri": "https://localhost:8080/"
        },
        "id": "FhJ4E3-e_wDR",
        "outputId": "2479b38a-0a7a-4440-f53c-0b3fb0ab699c"
      },
      "execution_count": 9,
      "outputs": [
        {
          "output_type": "execute_result",
          "data": {
            "text/plain": [
              "False"
            ]
          },
          "metadata": {},
          "execution_count": 9
        }
      ]
    },
    {
      "cell_type": "code",
      "source": [
        "readmitted_days_after_discharge = 31\n",
        "if readmitted_days_after_discharge < 30:\n",
        "  print(\"Patient was readmitted in less than 30 days.\")\n",
        "else:\n",
        "  print(\"Patient was readmitted after 30 days.\")"
      ],
      "metadata": {
        "colab": {
          "base_uri": "https://localhost:8080/"
        },
        "id": "hlHNEyD9_2JR",
        "outputId": "7f12cfe0-4860-499d-f585-32622ab9c684"
      },
      "execution_count": 12,
      "outputs": [
        {
          "output_type": "stream",
          "name": "stdout",
          "text": [
            "Patient was readmitted after 30 days.\n"
          ]
        }
      ]
    },
    {
      "cell_type": "code",
      "source": [
        "ageA = 22\n",
        "ageB = 17\n"
      ],
      "metadata": {
        "id": "WrvEM_r0BsvI"
      },
      "execution_count": 13,
      "outputs": []
    },
    {
      "cell_type": "code",
      "source": [
        "ageA ==23"
      ],
      "metadata": {
        "colab": {
          "base_uri": "https://localhost:8080/"
        },
        "id": "4JhTm9H5Bzrq",
        "outputId": "9ba4393d-9c33-4b54-8657-27614d6be465"
      },
      "execution_count": 14,
      "outputs": [
        {
          "output_type": "execute_result",
          "data": {
            "text/plain": [
              "False"
            ]
          },
          "metadata": {},
          "execution_count": 14
        }
      ]
    },
    {
      "cell_type": "code",
      "source": [
        "ageA ==22"
      ],
      "metadata": {
        "colab": {
          "base_uri": "https://localhost:8080/"
        },
        "id": "iF____nNB35w",
        "outputId": "efe55144-a585-425d-e96e-f0da9cdcb2b1"
      },
      "execution_count": 15,
      "outputs": [
        {
          "output_type": "execute_result",
          "data": {
            "text/plain": [
              "True"
            ]
          },
          "metadata": {},
          "execution_count": 15
        }
      ]
    },
    {
      "cell_type": "code",
      "source": [
        "ageA > 18 and ageB > 20"
      ],
      "metadata": {
        "colab": {
          "base_uri": "https://localhost:8080/"
        },
        "id": "P-f-WGJnCLcV",
        "outputId": "1adb602e-ff3a-45c1-8c43-344e1d425d77"
      },
      "execution_count": 18,
      "outputs": [
        {
          "output_type": "execute_result",
          "data": {
            "text/plain": [
              "False"
            ]
          },
          "metadata": {},
          "execution_count": 18
        }
      ]
    },
    {
      "cell_type": "code",
      "source": [
        "ageB < 20"
      ],
      "metadata": {
        "colab": {
          "base_uri": "https://localhost:8080/"
        },
        "id": "QYNpN6GaB_Lg",
        "outputId": "4567a2a5-351e-4fd2-b04c-4b1dd16323c0"
      },
      "execution_count": 17,
      "outputs": [
        {
          "output_type": "execute_result",
          "data": {
            "text/plain": [
              "True"
            ]
          },
          "metadata": {},
          "execution_count": 17
        }
      ]
    },
    {
      "cell_type": "code",
      "source": [
        "ageA > 18 or ageB < 15"
      ],
      "metadata": {
        "colab": {
          "base_uri": "https://localhost:8080/"
        },
        "id": "a1R1GSGeCc-I",
        "outputId": "97d2fdf6-1bc3-40d9-c323-555b6fe298f1"
      },
      "execution_count": 19,
      "outputs": [
        {
          "output_type": "execute_result",
          "data": {
            "text/plain": [
              "True"
            ]
          },
          "metadata": {},
          "execution_count": 19
        }
      ]
    },
    {
      "cell_type": "code",
      "source": [
        "patient_exam_record = ['cath', 'echo', 'ekg']"
      ],
      "metadata": {
        "id": "jpAui-EBDaoO"
      },
      "execution_count": 20,
      "outputs": []
    },
    {
      "cell_type": "code",
      "source": [
        "'cath' in patient_exam_record "
      ],
      "metadata": {
        "colab": {
          "base_uri": "https://localhost:8080/"
        },
        "id": "Ds4nQ4ZSDp85",
        "outputId": "d47a090f-f9df-4cf0-ecd8-5b2a0412c06d"
      },
      "execution_count": 22,
      "outputs": [
        {
          "output_type": "execute_result",
          "data": {
            "text/plain": [
              "True"
            ]
          },
          "metadata": {},
          "execution_count": 22
        }
      ]
    },
    {
      "cell_type": "code",
      "source": [
        "new_exam = 'xray'"
      ],
      "metadata": {
        "id": "wGIthsSoD5no"
      },
      "execution_count": 23,
      "outputs": []
    },
    {
      "cell_type": "code",
      "source": [
        "if new_exam not in patient_exam_record:\n",
        "  print(\"new exam detected. Please confirm: \" + new_exam.upper())"
      ],
      "metadata": {
        "colab": {
          "base_uri": "https://localhost:8080/"
        },
        "id": "12Cg6bJuELpx",
        "outputId": "8a767ba5-41af-4765-c645-90914af770e2"
      },
      "execution_count": 25,
      "outputs": [
        {
          "output_type": "stream",
          "name": "stdout",
          "text": [
            "new exam detected. Please confirm: XRAY\n"
          ]
        }
      ]
    },
    {
      "cell_type": "markdown",
      "source": [
        "## CLASS WORK"
      ],
      "metadata": {
        "id": "w_f593yuEtYR"
      }
    },
    {
      "cell_type": "code",
      "source": [
        "orange = 20\n",
        "\n"
      ],
      "metadata": {
        "id": "OSRFuqEOEpZG"
      },
      "execution_count": 27,
      "outputs": []
    },
    {
      "cell_type": "code",
      "source": [
        "kiwi = 2"
      ],
      "metadata": {
        "id": "9sokWBusFtoR"
      },
      "execution_count": 28,
      "outputs": []
    },
    {
      "cell_type": "code",
      "source": [
        "orange < kiwi"
      ],
      "metadata": {
        "colab": {
          "base_uri": "https://localhost:8080/"
        },
        "id": "_-HJcs1CFxVF",
        "outputId": "48a993a8-a9a0-4820-826e-fe1e890d983f"
      },
      "execution_count": 29,
      "outputs": [
        {
          "output_type": "execute_result",
          "data": {
            "text/plain": [
              "False"
            ]
          },
          "metadata": {},
          "execution_count": 29
        }
      ]
    },
    {
      "cell_type": "code",
      "source": [
        "orange >= 18 and kiwi == 2"
      ],
      "metadata": {
        "colab": {
          "base_uri": "https://localhost:8080/"
        },
        "id": "hfwNvJxGF3Vz",
        "outputId": "d6d1bdb3-3f20-48b2-e465-05ddb2f8931a"
      },
      "execution_count": 31,
      "outputs": [
        {
          "output_type": "execute_result",
          "data": {
            "text/plain": [
              "True"
            ]
          },
          "metadata": {},
          "execution_count": 31
        }
      ]
    },
    {
      "cell_type": "code",
      "source": [
        "5 == orange"
      ],
      "metadata": {
        "colab": {
          "base_uri": "https://localhost:8080/"
        },
        "id": "MeNti7aRGH7K",
        "outputId": "787e5cc7-e051-47c4-9f10-e6a7675eea38"
      },
      "execution_count": 34,
      "outputs": [
        {
          "output_type": "execute_result",
          "data": {
            "text/plain": [
              "False"
            ]
          },
          "metadata": {},
          "execution_count": 34
        }
      ]
    },
    {
      "cell_type": "code",
      "source": [
        "kiwi != 2"
      ],
      "metadata": {
        "colab": {
          "base_uri": "https://localhost:8080/"
        },
        "id": "oiLvPQPfGmZN",
        "outputId": "9202cb2c-fe66-4050-e8c3-00d7c99ff22f"
      },
      "execution_count": 35,
      "outputs": [
        {
          "output_type": "execute_result",
          "data": {
            "text/plain": [
              "False"
            ]
          },
          "metadata": {},
          "execution_count": 35
        }
      ]
    },
    {
      "cell_type": "code",
      "source": [
        "elements1 = ['x', 's', 't', 'y']\n"
      ],
      "metadata": {
        "id": "00Do_Uw3Grg2"
      },
      "execution_count": 36,
      "outputs": []
    },
    {
      "cell_type": "code",
      "source": [
        "'w' not in elements1"
      ],
      "metadata": {
        "colab": {
          "base_uri": "https://localhost:8080/"
        },
        "id": "rvk4H_P_G_1L",
        "outputId": "d6c519a4-bf9c-423a-e9da-f9c42eb2bc7f"
      },
      "execution_count": 41,
      "outputs": [
        {
          "output_type": "execute_result",
          "data": {
            "text/plain": [
              "True"
            ]
          },
          "metadata": {},
          "execution_count": 41
        }
      ]
    },
    {
      "cell_type": "code",
      "source": [
        "'u' or 's' in elements1"
      ],
      "metadata": {
        "colab": {
          "base_uri": "https://localhost:8080/",
          "height": 35
        },
        "id": "4oOU2XpjHanc",
        "outputId": "7ae5a4a2-680d-4eac-cf40-8af9981788d2"
      },
      "execution_count": 43,
      "outputs": [
        {
          "output_type": "execute_result",
          "data": {
            "application/vnd.google.colaboratory.intrinsic+json": {
              "type": "string"
            },
            "text/plain": [
              "'u'"
            ]
          },
          "metadata": {},
          "execution_count": 43
        }
      ]
    },
    {
      "cell_type": "code",
      "source": [
        "'u' and 's' in elements1"
      ],
      "metadata": {
        "colab": {
          "base_uri": "https://localhost:8080/"
        },
        "id": "yENzt956HpiG",
        "outputId": "93c42c72-c9a5-42b4-b2f9-1de8f541a19a"
      },
      "execution_count": 44,
      "outputs": [
        {
          "output_type": "execute_result",
          "data": {
            "text/plain": [
              "True"
            ]
          },
          "metadata": {},
          "execution_count": 44
        }
      ]
    },
    {
      "cell_type": "code",
      "source": [
        "'u' or 's' not in elements1"
      ],
      "metadata": {
        "colab": {
          "base_uri": "https://localhost:8080/",
          "height": 35
        },
        "id": "jsZ2X3ysHxQ9",
        "outputId": "64f94566-54fc-49b6-dd9f-bf63e3a4228b"
      },
      "execution_count": 45,
      "outputs": [
        {
          "output_type": "execute_result",
          "data": {
            "application/vnd.google.colaboratory.intrinsic+json": {
              "type": "string"
            },
            "text/plain": [
              "'u'"
            ]
          },
          "metadata": {},
          "execution_count": 45
        }
      ]
    },
    {
      "cell_type": "code",
      "source": [
        "ages = 17"
      ],
      "metadata": {
        "id": "u7zqye-mLwEX"
      },
      "execution_count": 46,
      "outputs": []
    },
    {
      "cell_type": "code",
      "source": [
        "if ages < 5:\n",
        "  print('Admission is free')\n",
        "elif ages < 18:\n",
        "  print('Admission is $5')\n",
        "else:\n",
        "  print('Admission is $10')\n",
        "\n"
      ],
      "metadata": {
        "colab": {
          "base_uri": "https://localhost:8080/"
        },
        "id": "P0hl1POKMNnh",
        "outputId": "914f49bb-02d0-45ed-de0d-0b83d8447c3b"
      },
      "execution_count": 47,
      "outputs": [
        {
          "output_type": "stream",
          "name": "stdout",
          "text": [
            "Admission is $10\n"
          ]
        }
      ]
    },
    {
      "cell_type": "code",
      "source": [
        "if ages < 5:\n",
        "  price = 0\n",
        "elif ages < 18:\n",
        "  price = 5\n",
        "else:\n",
        "  price = 10\n",
        "print(\"Admission price is: \" + str(price))"
      ],
      "metadata": {
        "colab": {
          "base_uri": "https://localhost:8080/"
        },
        "id": "6BJznKWsNiAp",
        "outputId": "e8ac826d-9831-43b1-fd74-2c4e94ca72b1"
      },
      "execution_count": 49,
      "outputs": [
        {
          "output_type": "stream",
          "name": "stdout",
          "text": [
            "Admission price is: 10\n"
          ]
        }
      ]
    },
    {
      "cell_type": "code",
      "source": [
        ""
      ],
      "metadata": {
        "id": "RUDNCsDBO7p2"
      },
      "execution_count": null,
      "outputs": []
    },
    {
      "cell_type": "markdown",
      "source": [
        "CLASS WORK"
      ],
      "metadata": {
        "id": "GP50J8xKP3Sy"
      }
    },
    {
      "cell_type": "code",
      "source": [
        "Ages = 70"
      ],
      "metadata": {
        "id": "T_PP--6YO4G-"
      },
      "execution_count": 50,
      "outputs": []
    },
    {
      "cell_type": "code",
      "source": [
        "if Ages < 2:\n",
        "  print('The person is a baby.')\n",
        "elif Ages < 70:\n",
        "  print('The person is teenager.')\n",
        "else:\n",
        "  print('The person is older.')"
      ],
      "metadata": {
        "colab": {
          "base_uri": "https://localhost:8080/"
        },
        "id": "yf26gQ-DQBC3",
        "outputId": "5149dfee-1c74-413e-d899-f92962a08e8f"
      },
      "execution_count": 51,
      "outputs": [
        {
          "output_type": "stream",
          "name": "stdout",
          "text": [
            "The person is older.\n"
          ]
        }
      ]
    },
    {
      "cell_type": "code",
      "source": [
        "ffoods = ['egg', 'bread', 'tomato', 'snack', 'milk']"
      ],
      "metadata": {
        "id": "qxnLI2bGRLmg"
      },
      "execution_count": 52,
      "outputs": []
    },
    {
      "cell_type": "code",
      "source": [
        "if 'egg' in ffoods:\n",
        "  print('Add egg in the cart.')\n",
        "if 'bread' in ffoods:\n",
        "  print('Add break in the cart')\n",
        "if 'tomato' in ffoods:\n",
        "  print('Add tomato in the cart')\n",
        "if 'snack' in ffoods:\n",
        "  print('Add snack in the cart')\n",
        "if 'milk' in ffoods:\n",
        "  print('Add milk in the cart')\n",
        "print('\\nYou are good for today!')\n",
        "\n"
      ],
      "metadata": {
        "colab": {
          "base_uri": "https://localhost:8080/"
        },
        "id": "LFGUu-yfSCXS",
        "outputId": "bb37fa02-6da6-47f2-91a8-a79bde556828"
      },
      "execution_count": 56,
      "outputs": [
        {
          "output_type": "stream",
          "name": "stdout",
          "text": [
            "Add egg in the cart.\n",
            "Add break in the cart\n",
            "Add tomato in the cart\n",
            "Add snack in the cart\n",
            "Add milk in the cart\n",
            "\n",
            "You are good for today!\n"
          ]
        }
      ]
    },
    {
      "cell_type": "code",
      "source": [
        "foodss = ['egg', 'bread', 'tomato', 'snack', 'milk']"
      ],
      "metadata": {
        "id": "VmUSawYBUNmj"
      },
      "execution_count": 57,
      "outputs": []
    },
    {
      "cell_type": "code",
      "source": [
        "for top in foodss:\n",
        "  if top == 'egg':\n",
        "    print(\"let's have some egg\")\n",
        "  else:\n",
        "    print(\"Dang I wish I had some egg\")"
      ],
      "metadata": {
        "colab": {
          "base_uri": "https://localhost:8080/"
        },
        "id": "aZQXdhKuUX1e",
        "outputId": "f0d23d30-b6e4-4fc3-c151-d8062608a4ce"
      },
      "execution_count": 58,
      "outputs": [
        {
          "output_type": "stream",
          "name": "stdout",
          "text": [
            "let's have some egg\n",
            "Dang I wish I had some egg\n",
            "Dang I wish I had some egg\n",
            "Dang I wish I had some egg\n",
            "Dang I wish I had some egg\n"
          ]
        }
      ]
    }
  ]
}