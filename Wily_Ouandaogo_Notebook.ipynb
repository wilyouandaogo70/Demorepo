{
  "nbformat": 4,
  "nbformat_minor": 0,
  "metadata": {
    "colab": {
      "name": "Wily Ouandaogo Notebook.ipynb",
      "provenance": [],
      "authorship_tag": "ABX9TyMamCaundFYhPllFGfNLrr7",
      "include_colab_link": true
    },
    "kernelspec": {
      "name": "python3",
      "display_name": "Python 3"
    },
    "language_info": {
      "name": "python"
    }
  },
  "cells": [
    {
      "cell_type": "markdown",
      "metadata": {
        "id": "view-in-github",
        "colab_type": "text"
      },
      "source": [
        "<a href=\"https://colab.research.google.com/github/wilyouandaogo70/Demorepo/blob/main/Wily_Ouandaogo_Notebook.ipynb\" target=\"_parent\"><img src=\"https://colab.research.google.com/assets/colab-badge.svg\" alt=\"Open In Colab\"/></a>"
      ]
    },
    {
      "cell_type": "code",
      "execution_count": null,
      "metadata": {
        "id": "JCaVnkn4Jrp-"
      },
      "outputs": [],
      "source": [
        "patient1 = {'fname' : 'john', 'lname': 'smith'}"
      ]
    },
    {
      "cell_type": "code",
      "source": [
        "print(patient1['fname'])\n",
        "print(patient1['lname'])"
      ],
      "metadata": {
        "colab": {
          "base_uri": "https://localhost:8080/"
        },
        "id": "B0fa3PBBNWc7",
        "outputId": "1650fba7-c2ab-4631-b58f-54fcc416b9d9"
      },
      "execution_count": null,
      "outputs": [
        {
          "output_type": "stream",
          "name": "stdout",
          "text": [
            "john\n",
            "smith\n"
          ]
        }
      ]
    },
    {
      "cell_type": "code",
      "source": [
        "print(patient1)"
      ],
      "metadata": {
        "colab": {
          "base_uri": "https://localhost:8080/"
        },
        "id": "Y8iHTXS0OBRo",
        "outputId": "15036971-edd4-4e96-cef6-61b12adae476"
      },
      "execution_count": null,
      "outputs": [
        {
          "output_type": "stream",
          "name": "stdout",
          "text": [
            "{'fname': 'john', 'lname': 'smith'}\n"
          ]
        }
      ]
    },
    {
      "cell_type": "code",
      "source": [
        "patient1['mrn'] = 00000\n",
        "patient1['Last_exam'] = 'echo'\n",
        "patient1"
      ],
      "metadata": {
        "colab": {
          "base_uri": "https://localhost:8080/"
        },
        "id": "l7Z9uFS-OiYk",
        "outputId": "1319197f-b360-4b8a-d8a0-a4404f77ed9e"
      },
      "execution_count": null,
      "outputs": [
        {
          "output_type": "execute_result",
          "data": {
            "text/plain": [
              "{'Last_exam': 'echo', 'fname': 'john', 'lname': 'smith', 'mrn': 0}"
            ]
          },
          "metadata": {},
          "execution_count": 6
        }
      ]
    },
    {
      "cell_type": "code",
      "source": [
        "patient_2 = {}"
      ],
      "metadata": {
        "id": "GP349s0XPH0H"
      },
      "execution_count": null,
      "outputs": []
    },
    {
      "cell_type": "code",
      "source": [
        "patient_2['first_name'] = 'wily joe'"
      ],
      "metadata": {
        "id": "DiVIBNfHPWSs"
      },
      "execution_count": null,
      "outputs": []
    },
    {
      "cell_type": "code",
      "source": [
        "patient_2"
      ],
      "metadata": {
        "colab": {
          "base_uri": "https://localhost:8080/"
        },
        "id": "Z3s4quN0Q3RS",
        "outputId": "b71d69ff-b83a-4ea7-cd11-9900b591c3bd"
      },
      "execution_count": null,
      "outputs": [
        {
          "output_type": "execute_result",
          "data": {
            "text/plain": [
              "{'first_name': 'wily joe'}"
            ]
          },
          "metadata": {},
          "execution_count": 13
        }
      ]
    },
    {
      "cell_type": "code",
      "source": [
        "del patient_2['first_name']"
      ],
      "metadata": {
        "id": "wzFO5RFQRB2z"
      },
      "execution_count": null,
      "outputs": []
    },
    {
      "cell_type": "code",
      "source": [
        "patient_3 = {}"
      ],
      "metadata": {
        "id": "9chL1e48SB8M"
      },
      "execution_count": null,
      "outputs": []
    },
    {
      "cell_type": "markdown",
      "source": [
        "## CLASS WORK"
      ],
      "metadata": {
        "id": "dmxNyqrGTHio"
      }
    },
    {
      "cell_type": "code",
      "source": [
        "employee_1 = {'first_name': 'joe', 'last_name': 'lucas', 'age': '45', 'city': 'manhattan', 'ID': '1245584554'}"
      ],
      "metadata": {
        "id": "VreFDQ5_TEOx"
      },
      "execution_count": null,
      "outputs": []
    },
    {
      "cell_type": "code",
      "source": [
        "print(employee_1)"
      ],
      "metadata": {
        "colab": {
          "base_uri": "https://localhost:8080/"
        },
        "id": "Nsil_MrzUgRp",
        "outputId": "82a0ea38-8dc9-476e-c1f8-9a645346a8ab"
      },
      "execution_count": null,
      "outputs": [
        {
          "output_type": "stream",
          "name": "stdout",
          "text": [
            "{'first_name': 'joe', 'last_name': 'lucas', 'age': '45', 'city': 'manhattan', 'ID': '1245584554'}\n"
          ]
        }
      ]
    },
    {
      "cell_type": "code",
      "source": [
        "people = {'Ali': '12', 'Joe': '14', 'Luc': '24', 'Paul': '17', 'Sara': '23'}"
      ],
      "metadata": {
        "id": "Dq0ZJqZ4U6Z1"
      },
      "execution_count": null,
      "outputs": []
    },
    {
      "cell_type": "code",
      "source": [
        "people"
      ],
      "metadata": {
        "colab": {
          "base_uri": "https://localhost:8080/"
        },
        "id": "CtEIS3fnVgCV",
        "outputId": "6ae3fb79-ea95-49bd-bf0d-6c76aa903b48"
      },
      "execution_count": null,
      "outputs": [
        {
          "output_type": "execute_result",
          "data": {
            "text/plain": [
              "{'Ali': '12', 'Joe': '14', 'Luc': '24', 'Paul': '17', 'Sara': '23'}"
            ]
          },
          "metadata": {},
          "execution_count": 23
        }
      ]
    },
    {
      "cell_type": "code",
      "source": [
        "glossary = {'Python': 'python: Python is an object-oriented, high-level programming language with integrated dynamic semantics primarily for web and app development'\n",
        "            , 'AI': 'AI:  is intelligence demonstrated by machines, as opposed to natural intelligence displayed by animals including humans.', \n",
        "            'variable': 'a variable: a reserved memory location to store values.'}"
      ],
      "metadata": {
        "id": "KULe1Cugb6LO"
      },
      "execution_count": null,
      "outputs": []
    },
    {
      "cell_type": "code",
      "source": [
        "glossary"
      ],
      "metadata": {
        "colab": {
          "base_uri": "https://localhost:8080/"
        },
        "id": "-oGxHNSydXMt",
        "outputId": "26aedd6d-f2d3-4462-fc05-21b8976c5786"
      },
      "execution_count": null,
      "outputs": [
        {
          "output_type": "execute_result",
          "data": {
            "text/plain": [
              "{'AI': 'AI:  is intelligence demonstrated by machines, as opposed to natural intelligence displayed by animals including humans.',\n",
              " 'Python': 'python: Python is an object-oriented, high-level programming language with integrated dynamic semantics primarily for web and app development',\n",
              " 'variable': 'a variable: a reserved memory location to store values.'}"
            ]
          },
          "metadata": {},
          "execution_count": 41
        }
      ]
    },
    {
      "cell_type": "code",
      "source": [
        "for keys, values in patient_2.items():\n",
        "  print('key:' + key)\n",
        "  print('value:' + value +  '\\n')"
      ],
      "metadata": {
        "id": "zG2ci6-QeTQl"
      },
      "execution_count": null,
      "outputs": []
    },
    {
      "cell_type": "code",
      "source": [
        "friends_ages = {\n",
        "    \n",
        "}"
      ],
      "metadata": {
        "id": "-0bMfVP7fwYd"
      },
      "execution_count": null,
      "outputs": []
    },
    {
      "cell_type": "code",
      "source": [
        ""
      ],
      "metadata": {
        "id": "HVpyz3Ttg9sO"
      },
      "execution_count": null,
      "outputs": []
    },
    {
      "cell_type": "markdown",
      "source": [
        "## WHILE LOOPING"
      ],
      "metadata": {
        "id": "AFi-q5Mqg1v_"
      }
    },
    {
      "cell_type": "code",
      "source": [
        "num = 1\n",
        "while num < 6:\n",
        "  print(num)\n",
        "  num += 1\n",
        "else:\n",
        "  print('num is greater than 6')"
      ],
      "metadata": {
        "colab": {
          "base_uri": "https://localhost:8080/"
        },
        "id": "AWFsIjD_hfaG",
        "outputId": "89f91fbb-e25d-48b2-8634-b22742a60d43"
      },
      "execution_count": null,
      "outputs": [
        {
          "output_type": "stream",
          "name": "stdout",
          "text": [
            "1\n",
            "2\n",
            "3\n",
            "4\n",
            "5\n",
            "num is greater than 6\n"
          ]
        }
      ]
    },
    {
      "cell_type": "code",
      "source": [
        "usern = input('Enter Username: ')\n",
        "print(\"Username is: \" + usern)"
      ],
      "metadata": {
        "colab": {
          "base_uri": "https://localhost:8080/"
        },
        "id": "yD6IB_GDhzvD",
        "outputId": "8055b7f3-50ed-49ac-ad1f-2dcb55e3bfb5"
      },
      "execution_count": null,
      "outputs": [
        {
          "output_type": "stream",
          "name": "stdout",
          "text": [
            "Enter Username:hello\n",
            "Username is: hello\n"
          ]
        }
      ]
    },
    {
      "cell_type": "code",
      "source": [
        "prompt = \"input a message. This will repeat it untill you type 'quit'\" \n",
        "message = \"\"\n",
        "while message != 'quit':\n",
        "  message = input(prompt)\n",
        "  print(message)"
      ],
      "metadata": {
        "colab": {
          "base_uri": "https://localhost:8080/"
        },
        "id": "U_J8KASrjKMJ",
        "outputId": "ef3b0f11-4141-4172-a5e8-0d862b0d3201"
      },
      "execution_count": null,
      "outputs": [
        {
          "output_type": "stream",
          "name": "stdout",
          "text": [
            "input a message. This will repeat it untill you type 'quit'hi\n",
            "hi\n",
            "input a message. This will repeat it untill you type 'quit'hi\n",
            "hi\n",
            "input a message. This will repeat it untill you type 'quit'quit\n",
            "quit\n"
          ]
        }
      ]
    },
    {
      "cell_type": "markdown",
      "source": [
        "## SIMPLE FUNCTIONS"
      ],
      "metadata": {
        "id": "P514VYex6KlG"
      }
    },
    {
      "cell_type": "code",
      "source": [
        "def main():\n",
        "  print('Hi there')\n",
        "\n",
        "main()"
      ],
      "metadata": {
        "id": "KeJoUQkmmchx",
        "colab": {
          "base_uri": "https://localhost:8080/"
        },
        "outputId": "1049bcae-831b-48d9-e15b-8d486a8f6895"
      },
      "execution_count": null,
      "outputs": [
        {
          "output_type": "stream",
          "name": "stdout",
          "text": [
            "Hi there\n"
          ]
        }
      ]
    },
    {
      "cell_type": "markdown",
      "source": [
        "## CLASS WORK"
      ],
      "metadata": {
        "id": "L2KX4XAM7_bz"
      }
    },
    {
      "cell_type": "code",
      "source": [
        "def main(age):\n",
        "  print(\"You are \" + str(age) )\n",
        "main(45)"
      ],
      "metadata": {
        "colab": {
          "base_uri": "https://localhost:8080/"
        },
        "id": "7DTibQYZ71vt",
        "outputId": "bc49c94c-f99d-4e84-9c4c-bb16dcb218ed"
      },
      "execution_count": null,
      "outputs": [
        {
          "output_type": "stream",
          "name": "stdout",
          "text": [
            "You are 45\n"
          ]
        }
      ]
    },
    {
      "cell_type": "markdown",
      "source": [
        "## MULTIPLE FUNCTION"
      ],
      "metadata": {
        "id": "eDThF36h_SKN"
      }
    },
    {
      "cell_type": "code",
      "source": [
        "def main(fname, lname):\n",
        "  print(\"Hi \" + fname + lname)\n",
        "main('Joe', 'Biden')"
      ],
      "metadata": {
        "colab": {
          "base_uri": "https://localhost:8080/"
        },
        "id": "YeLMcbO7_Orr",
        "outputId": "f22b002b-2541-4fb4-aa73-d84af31baeb6"
      },
      "execution_count": null,
      "outputs": [
        {
          "output_type": "stream",
          "name": "stdout",
          "text": [
            "Hi JoeBiden\n"
          ]
        }
      ]
    },
    {
      "cell_type": "code",
      "source": [
        "def main(fname, lname, age):\n",
        "  print(\"Hi, \" + fname + \" \" + lname + \"you are \" + str(age) + ' years old')\n",
        "main('Joe', 'Biden ', 78)"
      ],
      "metadata": {
        "colab": {
          "base_uri": "https://localhost:8080/"
        },
        "id": "GC5d4Wb8_99l",
        "outputId": "c5bfbc3a-f011-46eb-9eac-810ba957f1c7"
      },
      "execution_count": null,
      "outputs": [
        {
          "output_type": "stream",
          "name": "stdout",
          "text": [
            "Hi, Joe Biden you are 78 years old\n"
          ]
        }
      ]
    },
    {
      "cell_type": "markdown",
      "source": [
        "# CLASS WORK"
      ],
      "metadata": {
        "id": "2yEFPPhwCJKF"
      }
    },
    {
      "cell_type": "code",
      "source": [
        "def main(country, city, hospital):\n",
        "  print(country + \" \" + city + \" \" + hospital )\n",
        "main(country = \"Faso\", city = 'Ouaga', hospital = 'Yalgado')\n",
        "main(city = 'Ouaga', hospital = 'Yalgado', country = 'Faso')\n",
        "main(hospital ='Yalgado', country = 'Faso', city = 'Ouaga')"
      ],
      "metadata": {
        "colab": {
          "base_uri": "https://localhost:8080/"
        },
        "id": "dXqA3KmgCNHJ",
        "outputId": "0d9d8a57-55dd-4aba-ff03-57f2ad843c38"
      },
      "execution_count": null,
      "outputs": [
        {
          "output_type": "stream",
          "name": "stdout",
          "text": [
            "Faso Ouaga Yalgado\n",
            "Faso Ouaga Yalgado\n",
            "Faso Ouaga Yalgado\n"
          ]
        }
      ]
    },
    {
      "cell_type": "code",
      "source": [
        "def my_function(age):\n",
        "  text = \"My name is Denise, and I am {} years old.\"\n",
        "  print(text.format(age))\n",
        "my_function(45)\n",
        "  \n",
        "  #print(\"My name is Denise, and I am \" + str(age) +\" years old.\")\n"
      ],
      "metadata": {
        "colab": {
          "base_uri": "https://localhost:8080/"
        },
        "id": "zHUYC-K2ABf1",
        "outputId": "67a18daf-e0e6-4327-828e-d519ab83281a"
      },
      "execution_count": null,
      "outputs": [
        {
          "output_type": "stream",
          "name": "stdout",
          "text": [
            "My name is Denise, and I am 45 years old.\n"
          ]
        }
      ]
    }
  ]
}