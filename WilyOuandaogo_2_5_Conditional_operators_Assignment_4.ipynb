{
  "nbformat": 4,
  "nbformat_minor": 0,
  "metadata": {
    "colab": {
      "name": "WilyOuandaogo 2-5 Conditional operators Assignment 4.ipynb",
      "provenance": [],
      "include_colab_link": true
    },
    "kernelspec": {
      "name": "python3",
      "display_name": "Python 3"
    },
    "language_info": {
      "name": "python"
    }
  },
  "cells": [
    {
      "cell_type": "markdown",
      "metadata": {
        "id": "view-in-github",
        "colab_type": "text"
      },
      "source": [
        "<a href=\"https://colab.research.google.com/github/wilyouandaogo70/Demorepo/blob/main/WilyOuandaogo_2_5_Conditional_operators_Assignment_4.ipynb\" target=\"_parent\"><img src=\"https://colab.research.google.com/assets/colab-badge.svg\" alt=\"Open In Colab\"/></a>"
      ]
    },
    {
      "cell_type": "markdown",
      "source": [
        "##2-5 Conditional operators and if statements\n"
      ],
      "metadata": {
        "id": "JJNI2qrwqgYB"
      }
    },
    {
      "cell_type": "markdown",
      "source": [
        "## Task 1: Admin user names\n",
        "* Make a list of 5 or more usernames, including an admin account. Imagine you are writing code that will welcome people to your application on login. Loop through the list and print your greeting.\n",
        "* If the admin account logs in, give them a special greeting.  They’re the admin, after all!\n",
        "* Other users can get the generic greeting"
      ],
      "metadata": {
        "id": "mXe7c59GqpEX"
      }
    },
    {
      "cell_type": "code",
      "execution_count": null,
      "metadata": {
        "id": "TFOFGzWWqSNV"
      },
      "outputs": [],
      "source": [
        "usernames = ['adam02', 'sarah.01', 'j.paul', 'jmorgan', 'w.ouandaogo', 'admin']"
      ]
    },
    {
      "cell_type": "code",
      "source": [
        "for name in usernames: \n",
        "  if name == 'admin':\n",
        "    print('Hello ' + name.title() + \" , welcome to aboard!\")\n",
        "  else:\n",
        "    print(\"Hello \" + name.title() + \", thank you for loging in again!\" )\n"
      ],
      "metadata": {
        "id": "j3Hr_Lv7qw0I",
        "colab": {
          "base_uri": "https://localhost:8080/"
        },
        "outputId": "a40304c4-1293-45f2-df46-808192aeaade"
      },
      "execution_count": null,
      "outputs": [
        {
          "output_type": "stream",
          "name": "stdout",
          "text": [
            "Hello Adam02, thank you for loging in again!\n",
            "Hello Sarah.01, thank you for loging in again!\n",
            "Hello J.Paul, thank you for loging in again!\n",
            "Hello Jmorgan, thank you for loging in again!\n",
            "Hello W.Ouandaogo, thank you for loging in again!\n",
            "Hello Admin , welcome to aboard!\n"
          ]
        }
      ]
    },
    {
      "cell_type": "code",
      "source": [
        ""
      ],
      "metadata": {
        "id": "OI5G7XhaqxKD"
      },
      "execution_count": null,
      "outputs": []
    },
    {
      "cell_type": "code",
      "source": [
        ""
      ],
      "metadata": {
        "id": "TVQL3gzLq39k"
      },
      "execution_count": null,
      "outputs": []
    },
    {
      "cell_type": "code",
      "source": [
        ""
      ],
      "metadata": {
        "id": "eAG0F5X3q4K_"
      },
      "execution_count": null,
      "outputs": []
    },
    {
      "cell_type": "markdown",
      "source": [
        "##Task 2: Numbers\n",
        "\n",
        "* Store numbers 1-10 in a list\n",
        "* Loop through the list\n",
        "* Use an if-elif-else chain inside your loop to print the ordinal ending for each number – for example – 1st, 2nd, 3rd … etc."
      ],
      "metadata": {
        "id": "g3nnh2NJq9gY"
      }
    },
    {
      "cell_type": "code",
      "source": [
        "Numbers = [1, 2, 3, 4, 5, 6, 7, 8, 9, 10]"
      ],
      "metadata": {
        "id": "DwBbjFgTrWps"
      },
      "execution_count": null,
      "outputs": []
    },
    {
      "cell_type": "code",
      "source": [
        "for N in Numbers:\n",
        "  print(N)"
      ],
      "metadata": {
        "id": "hlU__zZFrXAV",
        "colab": {
          "base_uri": "https://localhost:8080/"
        },
        "outputId": "fa1a7e12-7f84-494e-883c-43c750f21846"
      },
      "execution_count": null,
      "outputs": [
        {
          "output_type": "stream",
          "name": "stdout",
          "text": [
            "1\n",
            "2\n",
            "3\n",
            "4\n",
            "5\n",
            "6\n",
            "7\n",
            "8\n",
            "9\n",
            "10\n"
          ]
        }
      ]
    },
    {
      "cell_type": "code",
      "source": [
        "for x in Numbers:\n",
        "  if x == 1:\n",
        "    print('1st')\n",
        "  elif x == 2:\n",
        "    print('2nd')\n",
        "  elif x == 3:\n",
        "    print('3rd')\n",
        "  elif x == 4:\n",
        "    print('4th')\n",
        "  elif x == 5:\n",
        "    print('5th')\n",
        "  elif x == 6:\n",
        "    print('6th')\n",
        "  elif x == 7:\n",
        "    print('7th')\n",
        "  elif x == 8:\n",
        "    print('8th')\n",
        "  elif x == 9:\n",
        "    print('9th')\n",
        "  else:\n",
        "    print('10th')\n",
        "  \n",
        "  "
      ],
      "metadata": {
        "id": "UwohuUMIrXKR",
        "colab": {
          "base_uri": "https://localhost:8080/"
        },
        "outputId": "c396df74-f70e-435e-e5de-21c6b0cf56b0"
      },
      "execution_count": null,
      "outputs": [
        {
          "output_type": "stream",
          "name": "stdout",
          "text": [
            "1st\n",
            "2nd\n",
            "3rd\n",
            "4th\n",
            "5th\n",
            "6th\n",
            "7th\n",
            "8th\n",
            "9th\n",
            "10th\n"
          ]
        }
      ]
    }
  ]
}